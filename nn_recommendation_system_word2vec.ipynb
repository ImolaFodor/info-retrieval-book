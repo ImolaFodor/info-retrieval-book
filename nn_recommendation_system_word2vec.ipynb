{
  "nbformat": 4,
  "nbformat_minor": 0,
  "metadata": {
    "colab": {
      "provenance": []
    },
    "kernelspec": {
      "name": "python3",
      "display_name": "Python 3"
    },
    "language_info": {
      "name": "python"
    }
  },
  "cells": [
    {
      "cell_type": "code",
      "source": [
        "import numpy as np\n",
        "import pandas as pd\n",
        "# Load dataset\n",
        "\n",
        "X = pd.read_csv('/content/drive/MyDrive/embeddings/nndataTrainXCustomEmbTitle.csv')\n",
        "X = X.values\n",
        "Y = pd.read_csv('/content/drive/MyDrive/embeddings/nndataTrainYCustomEmbTitle.csv')\n",
        "Y = list(Y.values)\n",
        "print(Y)\n",
        "\n",
        "from sklearn.multioutput import MultiOutputClassifier\n",
        "from sklearn.neural_network import MLPClassifier\n",
        "\n",
        "mlp = MLPClassifier(random_state=1, max_iter=1000, learning_rate = 'adaptive', learning_rate_init = 0.01, batch_size = 32)\n",
        "classifier = MultiOutputClassifier(mlp, n_jobs=-1)\n",
        "classifier.fit(X,Y)\n",
        "predictions = classifier.predict(X)\n",
        "\n",
        "print(classifier.score(X,np.array(Y)))\n",
        "\n",
        "\n",
        "X_test = pd.read_csv('/content/drive/MyDrive/embeddings/nndataTestXCustomEmbTitle.csv')\n",
        "X_test = X_test.values\n",
        "Y_test = pd.read_csv('/content/drive/MyDrive/embeddings/nndataTestYCustomEmbTitle.csv')\n",
        "Y_test = list(Y_test.values)\n",
        "\n",
        "print(classifier.predict(X_test))\n",
        "\n",
        "print(classifier.score(X_test,np.array(Y_test)))"
      ],
      "metadata": {
        "colab": {
          "base_uri": "https://localhost:8080/"
        },
        "id": "1AVfazZXeu7b",
        "outputId": "f8c5ab6e-c378-4da5-d48f-e81bd91ebf5d"
      },
      "execution_count": 12,
      "outputs": [
        {
          "output_type": "stream",
          "name": "stdout",
          "text": [
            "[array([288, 475, 136]), array([347, 588, 494]), array([255, 260, 110]), array([186, 248,  45]), array([479, 268, 667]), array([234, 260, 265]), array([358, 346, 368]), array([307, 373,  90]), array([ 60,  21, 379]), array([60, 62, 64]), array([179, 264, 224]), array([186, 236, 238]), array([260, 270, 301]), array([311,  37, 333]), array([133, 193, 260]), array([364, 370, 371]), array([168, 179, 197]), array([ 45, 341, 358]), array([142, 176, 179]), array([27, 30, 31]), array([264,  44,  45]), array([347, 375, 346]), array([186, 200, 212]), array([144, 147, 193]), array([ 98, 264,  21]), array([191, 310, 316]), array([25, 23, 24]), array([110, 418, 244]), array([366, 379, 382]), array([292, 313,  38]), array([368, 458, 370]), array([ 64, 142, 144]), array([ 23, 152, 166]), array([502, 497, 513]), array([ 79,  74, 255]), array([55, 62, 63]), array([ 63, 235, 191]), array([368, 316, 442]), array([255, 371,  91]), array([31, 32, 33]), array([  2,  86, 113]), array([255, 362, 379]), array([133, 197, 248]), array([166, 263, 315]), array([ 63, 197, 250]), array([ 80, 153, 213]), array([ 32,  33, 147]), array([  2, 167, 197]), array([248, 258,  21]), array([ 42,  45, 380]), array([411, 455, 364]), array([ 80, 186, 251]), array([379, 401, 402]), array([  2, 198, 248]), array([106, 184, 243]), array([ 60, 345, 513]), array([264, 338, 340]), array([ 44, 103, 183]), array([368, 307,  90]), array([ 36,  83, 179]), array([160, 151, 191]), array([ 32,  23, 213]), array([ 69, 496, 502]), array([147, 314, 379]), array([270, 306, 373]), array([23, 55, 24]), array([255, 243,  45]), array([63, 36,  7]), array([ 74, 114, 179]), array([371, 373, 379]), array([ 62, 145, 121]), array([ 45, 179, 226]), array([112, 255, 332]), array([121, 143, 197])]\n",
            "0.013513513513513514\n",
            "[[ 60 264 379]\n",
            " [ 63 197 248]\n",
            " [ 63 268 144]\n",
            " [ 63 345 144]\n",
            " [ 45 197 179]\n",
            " [ 63 197 248]]\n",
            "0.0\n"
          ]
        }
      ]
    }
  ]
}